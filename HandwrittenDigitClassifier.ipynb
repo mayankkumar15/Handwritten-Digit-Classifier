{
  "nbformat": 4,
  "nbformat_minor": 0,
  "metadata": {
    "kernelspec": {
      "display_name": "Python 3",
      "language": "python",
      "name": "python3"
    },
    "language_info": {
      "codemirror_mode": {
        "name": "ipython",
        "version": 3
      },
      "file_extension": ".py",
      "mimetype": "text/x-python",
      "name": "python",
      "nbconvert_exporter": "python",
      "pygments_lexer": "ipython3",
      "version": "3.7.9"
    },
    "colab": {
      "name": "HandwrittenDigitClassifier (1).ipynb",
      "provenance": [],
      "collapsed_sections": [],
      "include_colab_link": true
    }
  },
  "cells": [
    {
      "cell_type": "markdown",
      "metadata": {
        "id": "view-in-github",
        "colab_type": "text"
      },
      "source": [
        "<a href=\"https://colab.research.google.com/github/mayankkumar15/Handwritten-Digit-Classifier/blob/main/HandwrittenDigitClassifier.ipynb\" target=\"_parent\"><img src=\"https://colab.research.google.com/assets/colab-badge.svg\" alt=\"Open In Colab\"/></a>"
      ]
    },
    {
      "cell_type": "code",
      "metadata": {
        "id": "x59XmTmDlXaU"
      },
      "source": [
        "import tensorflow as tf\n",
        "from tensorflow import keras\n",
        "import numpy as np\n",
        "import matplotlib.pyplot as plt\n",
        "%matplotlib inline\n",
        "import pandas as pd"
      ],
      "execution_count": null,
      "outputs": []
    },
    {
      "cell_type": "code",
      "metadata": {
        "id": "8wbHPjsVqkEN",
        "outputId": "bad2e3f3-5e11-4a81-87fd-b7419ca7b9cf",
        "colab": {
          "base_uri": "https://localhost:8080/",
          "height": 51
        }
      },
      "source": [
        "(X_train, y_train), (X_test, y_test) = tf.keras.datasets.mnist.load_data()\n",
        "\n",
        "# Rescaling the images through the range [0,255] to [0.0,1.0] \n",
        "X_train, X_test = X_train[..., np.newaxis]/255, X_test[..., np.newaxis]/255\n"
      ],
      "execution_count": null,
      "outputs": [
        {
          "output_type": "stream",
          "text": [
            "Downloading data from https://storage.googleapis.com/tensorflow/tf-keras-datasets/mnist.npz\n",
            "11493376/11490434 [==============================] - 0s 0us/step\n"
          ],
          "name": "stdout"
        }
      ]
    },
    {
      "cell_type": "code",
      "metadata": {
        "id": "NHBB7ynDlXae"
      },
      "source": [
        "# first half of trained data is original images and the second half is flipped images\n",
        "X_train = [i for i in X_train[0:30000:1]] + [1-i for i in X_train[:-30001:-1]]\n",
        "X_train = np.asarray(X_train)"
      ],
      "execution_count": null,
      "outputs": []
    },
    {
      "cell_type": "code",
      "metadata": {
        "id": "30qJBnMywu6p",
        "outputId": "af90d6f8-c571-4ff0-e619-5028cda86bf1",
        "colab": {
          "base_uri": "https://localhost:8080/",
          "height": 282
        }
      },
      "source": [
        "plt.imshow(tf.squeeze(X_train[6]))"
      ],
      "execution_count": null,
      "outputs": [
        {
          "output_type": "execute_result",
          "data": {
            "text/plain": [
              "<matplotlib.image.AxesImage at 0x7f039384d9e8>"
            ]
          },
          "metadata": {
            "tags": []
          },
          "execution_count": 4
        },
        {
          "output_type": "display_data",
          "data": {
            "image/png": "[encoded data removed]",
            "text/plain": [
              "<Figure size 432x288 with 1 Axes>"
            ]
          },
          "metadata": {
            "tags": [],
            "needs_background": "light"
          }
        }
      ]
    },
    {
      "cell_type": "code",
      "metadata": {
        "id": "mInFYkrRxUH4",
        "outputId": "fdbeb9b3-5a99-4101-ca8e-8d9093d05812",
        "colab": {
          "base_uri": "https://localhost:8080/",
          "height": 282
        }
      },
      "source": [
        "plt.imshow(tf.squeeze(X_train[30008]))"
      ],
      "execution_count": null,
      "outputs": [
        {
          "output_type": "execute_result",
          "data": {
            "text/plain": [
              "<matplotlib.image.AxesImage at 0x7f038d83e748>"
            ]
          },
          "metadata": {
            "tags": []
          },
          "execution_count": 9
        },
        {
          "output_type": "display_data",
          "data": {
            "image/png": "[encoded data removed]",
            "text/plain": [
              "<Figure size 432x288 with 1 Axes>"
            ]
          },
          "metadata": {
            "tags": [],
            "needs_background": "light"
          }
        }
      ]
    },
    {
      "cell_type": "code",
      "metadata": {
        "id": "K8emAB2NlXaj"
      },
      "source": [
        "# Flattening the test data image in order to create a single vector\n",
        "X_test_converted = X_test.reshape(len(X_test), 28*28)"
      ],
      "execution_count": null,
      "outputs": []
    },
    {
      "cell_type": "code",
      "metadata": {
        "id": "2tlxSJ1YlXam",
        "outputId": "c3a17cc4-ef85-4057-c8f1-0e857804f7e1",
        "colab": {
          "base_uri": "https://localhost:8080/",
          "height": 1000
        }
      },
      "source": [
        "# Model\n",
        "model = keras.Sequential()\n",
        "\n",
        "\n",
        "layer_1 = keras.layers.Flatten(input_shape=(28, 28))\n",
        "layer_2 = keras.layers.Dense(200,activation='relu')\n",
        "layer_3 = keras.layers.Dense(10, activation='softmax')\n",
        "\n",
        "model.add(layer_1)\n",
        "model.add(layer_2)\n",
        "model.add(layer_3)\n",
        "model.compile(optimizer='adam',loss='sparse_categorical_crossentropy',metrics=[\"sparse_categorical_accuracy\"])\n",
        "\n",
        "batchsize = [200, 500]\n",
        "error_value = []\n",
        "for i in batchsize:\n",
        "    print(\"batch size \" + str(i))\n",
        "    model.fit(X_train, y_train, epochs=72,batch_size=int(i))\n",
        "    scores = model.evaluate(X_test_converted, y_test, batch_size=int(i))\n",
        "    print(\"The found Error is  %.2f%%\" % (100-scores[1]*100))\n",
        "    print(\"--------- next batch ---------\")\n",
        "    error_value.append(100-scores[1]*100)\n",
        "print(error_value)"
      ],
      "execution_count": null,
      "outputs": [
        {
          "output_type": "stream",
          "text": [
            "batch size 200\n",
            "Epoch 1/72\n",
            "300/300 [==============================] - 2s 5ms/step - loss: 1.4399 - sparse_categorical_accuracy: 0.4844\n",
            "Epoch 2/72\n",
            "300/300 [==============================] - 2s 5ms/step - loss: 1.2644 - sparse_categorical_accuracy: 0.5211\n",
            "Epoch 3/72\n",
            "300/300 [==============================] - 2s 5ms/step - loss: 1.2329 - sparse_categorical_accuracy: 0.5314\n",
            "Epoch 4/72\n",
            "300/300 [==============================] - 2s 5ms/step - loss: 1.2152 - sparse_categorical_accuracy: 0.5365\n",
            "Epoch 5/72\n",
            "300/300 [==============================] - 2s 5ms/step - loss: 1.2020 - sparse_categorical_accuracy: 0.5410\n",
            "Epoch 6/72\n",
            "300/300 [==============================] - 2s 5ms/step - loss: 1.1925 - sparse_categorical_accuracy: 0.5441\n",
            "Epoch 7/72\n",
            "300/300 [==============================] - 2s 5ms/step - loss: 1.1863 - sparse_categorical_accuracy: 0.5455\n",
            "Epoch 8/72\n",
            "300/300 [==============================] - 2s 5ms/step - loss: 1.1792 - sparse_categorical_accuracy: 0.5477\n",
            "Epoch 9/72\n",
            "300/300 [==============================] - 2s 5ms/step - loss: 1.1748 - sparse_categorical_accuracy: 0.5489\n",
            "Epoch 10/72\n",
            "300/300 [==============================] - 2s 5ms/step - loss: 1.1704 - sparse_categorical_accuracy: 0.5504\n",
            "Epoch 11/72\n",
            "300/300 [==============================] - 2s 5ms/step - loss: 1.1675 - sparse_categorical_accuracy: 0.5514\n",
            "Epoch 12/72\n",
            "300/300 [==============================] - 2s 5ms/step - loss: 1.1638 - sparse_categorical_accuracy: 0.5525\n",
            "Epoch 13/72\n",
            "300/300 [==============================] - 2s 6ms/step - loss: 1.1617 - sparse_categorical_accuracy: 0.5529\n",
            "Epoch 14/72\n",
            "300/300 [==============================] - 2s 5ms/step - loss: 1.1605 - sparse_categorical_accuracy: 0.5534\n",
            "Epoch 15/72\n",
            "300/300 [==============================] - 2s 5ms/step - loss: 1.1585 - sparse_categorical_accuracy: 0.5541\n",
            "Epoch 16/72\n",
            "300/300 [==============================] - 2s 5ms/step - loss: 1.1571 - sparse_categorical_accuracy: 0.5544\n",
            "Epoch 17/72\n",
            "300/300 [==============================] - 2s 5ms/step - loss: 1.1558 - sparse_categorical_accuracy: 0.5547\n",
            "Epoch 18/72\n",
            "300/300 [==============================] - 2s 5ms/step - loss: 1.1549 - sparse_categorical_accuracy: 0.5549\n",
            "Epoch 19/72\n",
            "300/300 [==============================] - 2s 5ms/step - loss: 1.1542 - sparse_categorical_accuracy: 0.5551\n",
            "Epoch 20/72\n",
            "300/300 [==============================] - 2s 5ms/step - loss: 1.1535 - sparse_categorical_accuracy: 0.5554\n",
            "Epoch 21/72\n",
            "300/300 [==============================] - 2s 5ms/step - loss: 1.1528 - sparse_categorical_accuracy: 0.5553\n",
            "Epoch 22/72\n",
            "300/300 [==============================] - 2s 5ms/step - loss: 1.1523 - sparse_categorical_accuracy: 0.5553\n",
            "Epoch 23/72\n",
            "300/300 [==============================] - 2s 5ms/step - loss: 1.1520 - sparse_categorical_accuracy: 0.5552\n",
            "Epoch 24/72\n",
            "300/300 [==============================] - 2s 5ms/step - loss: 1.1527 - sparse_categorical_accuracy: 0.5551\n",
            "Epoch 25/72\n",
            "300/300 [==============================] - 2s 5ms/step - loss: 1.1568 - sparse_categorical_accuracy: 0.5536\n",
            "Epoch 26/72\n",
            "300/300 [==============================] - 2s 5ms/step - loss: 1.1553 - sparse_categorical_accuracy: 0.5546\n",
            "Epoch 27/72\n",
            "300/300 [==============================] - 2s 5ms/step - loss: 1.1528 - sparse_categorical_accuracy: 0.5551\n",
            "Epoch 28/72\n",
            "300/300 [==============================] - 2s 5ms/step - loss: 1.1516 - sparse_categorical_accuracy: 0.5552\n",
            "Epoch 29/72\n",
            "300/300 [==============================] - 2s 5ms/step - loss: 1.1513 - sparse_categorical_accuracy: 0.5553\n",
            "Epoch 30/72\n",
            "300/300 [==============================] - 2s 5ms/step - loss: 1.1512 - sparse_categorical_accuracy: 0.5553\n",
            "Epoch 31/72\n",
            "300/300 [==============================] - 2s 5ms/step - loss: 1.1511 - sparse_categorical_accuracy: 0.5553\n",
            "Epoch 32/72\n",
            "300/300 [==============================] - 2s 5ms/step - loss: 1.1513 - sparse_categorical_accuracy: 0.5552\n",
            "Epoch 33/72\n",
            "300/300 [==============================] - 2s 5ms/step - loss: 1.1510 - sparse_categorical_accuracy: 0.5553\n",
            "Epoch 34/72\n",
            "300/300 [==============================] - 2s 5ms/step - loss: 1.1510 - sparse_categorical_accuracy: 0.5553\n",
            "Epoch 35/72\n",
            "300/300 [==============================] - 2s 5ms/step - loss: 1.1510 - sparse_categorical_accuracy: 0.5553\n",
            "Epoch 36/72\n",
            "300/300 [==============================] - 2s 5ms/step - loss: 1.1509 - sparse_categorical_accuracy: 0.5553\n",
            "Epoch 37/72\n",
            "300/300 [==============================] - 2s 5ms/step - loss: 1.1509 - sparse_categorical_accuracy: 0.5553\n",
            "Epoch 38/72\n",
            "300/300 [==============================] - 2s 5ms/step - loss: 1.1509 - sparse_categorical_accuracy: 0.5553\n",
            "Epoch 39/72\n",
            "300/300 [==============================] - 2s 5ms/step - loss: 1.1509 - sparse_categorical_accuracy: 0.5553\n",
            "Epoch 40/72\n",
            "300/300 [==============================] - 2s 5ms/step - loss: 1.1643 - sparse_categorical_accuracy: 0.5511\n",
            "Epoch 41/72\n",
            "300/300 [==============================] - 2s 5ms/step - loss: 1.1528 - sparse_categorical_accuracy: 0.5547\n",
            "Epoch 42/72\n",
            "300/300 [==============================] - 2s 5ms/step - loss: 1.1512 - sparse_categorical_accuracy: 0.5552\n",
            "Epoch 43/72\n",
            "300/300 [==============================] - 2s 5ms/step - loss: 1.1509 - sparse_categorical_accuracy: 0.5553\n",
            "Epoch 44/72\n",
            "300/300 [==============================] - 2s 5ms/step - loss: 1.1509 - sparse_categorical_accuracy: 0.5553\n",
            "Epoch 45/72\n",
            "300/300 [==============================] - 2s 5ms/step - loss: 1.1509 - sparse_categorical_accuracy: 0.5552\n",
            "Epoch 46/72\n",
            "300/300 [==============================] - 2s 5ms/step - loss: 1.1509 - sparse_categorical_accuracy: 0.5553\n",
            "Epoch 47/72\n",
            "300/300 [==============================] - 2s 5ms/step - loss: 1.1508 - sparse_categorical_accuracy: 0.5553\n",
            "Epoch 48/72\n",
            "300/300 [==============================] - 2s 5ms/step - loss: 1.1508 - sparse_categorical_accuracy: 0.5553\n",
            "Epoch 49/72\n",
            "300/300 [==============================] - 2s 5ms/step - loss: 1.1508 - sparse_categorical_accuracy: 0.5553\n",
            "Epoch 50/72\n",
            "300/300 [==============================] - 2s 5ms/step - loss: 1.1508 - sparse_categorical_accuracy: 0.5553\n",
            "Epoch 51/72\n",
            "300/300 [==============================] - 2s 5ms/step - loss: 1.1508 - sparse_categorical_accuracy: 0.5553\n",
            "Epoch 52/72\n",
            "300/300 [==============================] - 2s 5ms/step - loss: 1.1508 - sparse_categorical_accuracy: 0.5553\n",
            "Epoch 53/72\n",
            "300/300 [==============================] - 2s 5ms/step - loss: 1.1508 - sparse_categorical_accuracy: 0.5553\n",
            "Epoch 54/72\n",
            "300/300 [==============================] - 2s 5ms/step - loss: 1.1508 - sparse_categorical_accuracy: 0.5553\n",
            "Epoch 55/72\n",
            "300/300 [==============================] - 2s 5ms/step - loss: 1.1508 - sparse_categorical_accuracy: 0.5553\n",
            "Epoch 56/72\n",
            "300/300 [==============================] - 2s 5ms/step - loss: 1.1508 - sparse_categorical_accuracy: 0.5553\n",
            "Epoch 57/72\n",
            "300/300 [==============================] - 2s 5ms/step - loss: 1.1508 - sparse_categorical_accuracy: 0.5553\n",
            "Epoch 58/72\n",
            "300/300 [==============================] - 2s 5ms/step - loss: 1.1508 - sparse_categorical_accuracy: 0.5553\n",
            "Epoch 59/72\n",
            "300/300 [==============================] - 2s 5ms/step - loss: 1.1508 - sparse_categorical_accuracy: 0.5553\n",
            "Epoch 60/72\n",
            "300/300 [==============================] - 2s 5ms/step - loss: 1.1508 - sparse_categorical_accuracy: 0.5553\n",
            "Epoch 61/72\n",
            "300/300 [==============================] - 2s 5ms/step - loss: 1.1509 - sparse_categorical_accuracy: 0.5553\n",
            "Epoch 62/72\n",
            "300/300 [==============================] - 2s 5ms/step - loss: 1.1508 - sparse_categorical_accuracy: 0.5553\n",
            "Epoch 63/72\n",
            "300/300 [==============================] - 2s 5ms/step - loss: 1.1509 - sparse_categorical_accuracy: 0.5554\n",
            "Epoch 64/72\n",
            "300/300 [==============================] - 2s 5ms/step - loss: 1.1507 - sparse_categorical_accuracy: 0.5553\n",
            "Epoch 65/72\n",
            "300/300 [==============================] - 2s 5ms/step - loss: 1.1508 - sparse_categorical_accuracy: 0.5553\n",
            "Epoch 66/72\n",
            "300/300 [==============================] - 2s 5ms/step - loss: 1.1508 - sparse_categorical_accuracy: 0.5553\n",
            "Epoch 67/72\n",
            "300/300 [==============================] - 2s 5ms/step - loss: 1.1507 - sparse_categorical_accuracy: 0.5553\n",
            "Epoch 68/72\n",
            "300/300 [==============================] - 2s 5ms/step - loss: 1.1507 - sparse_categorical_accuracy: 0.5553\n",
            "Epoch 69/72\n",
            "300/300 [==============================] - 2s 5ms/step - loss: 1.1507 - sparse_categorical_accuracy: 0.5553\n",
            "Epoch 70/72\n",
            "300/300 [==============================] - 2s 5ms/step - loss: 1.1507 - sparse_categorical_accuracy: 0.5553\n",
            "Epoch 71/72\n",
            "300/300 [==============================] - 2s 5ms/step - loss: 1.1507 - sparse_categorical_accuracy: 0.5553\n",
            "Epoch 72/72\n",
            "300/300 [==============================] - 2s 5ms/step - loss: 1.1507 - sparse_categorical_accuracy: 0.5553\n",
            "WARNING:tensorflow:Model was constructed with shape (None, 28, 28) for input Tensor(\"flatten_3_input:0\", shape=(None, 28, 28), dtype=float32), but it was called on an input with incompatible shape (200, 784).\n",
            "50/50 [==============================] - 0s 3ms/step - loss: 0.1218 - sparse_categorical_accuracy: 0.9787\n",
            "The found Error is  2.13%\n",
            "--------- next batch ---------\n",
            "batch size 500\n",
            "Epoch 1/72\n",
            "120/120 [==============================] - 1s 10ms/step - loss: 1.1509 - sparse_categorical_accuracy: 0.5554\n",
            "Epoch 2/72\n",
            "120/120 [==============================] - 1s 10ms/step - loss: 1.1507 - sparse_categorical_accuracy: 0.5553\n",
            "Epoch 3/72\n",
            "120/120 [==============================] - 1s 10ms/step - loss: 1.1507 - sparse_categorical_accuracy: 0.5553\n",
            "Epoch 4/72\n",
            "120/120 [==============================] - 1s 10ms/step - loss: 1.1507 - sparse_categorical_accuracy: 0.5553\n",
            "Epoch 5/72\n",
            "120/120 [==============================] - 1s 10ms/step - loss: 1.1507 - sparse_categorical_accuracy: 0.5553\n",
            "Epoch 6/72\n",
            "120/120 [==============================] - 1s 10ms/step - loss: 1.1507 - sparse_categorical_accuracy: 0.5553\n",
            "Epoch 7/72\n",
            "120/120 [==============================] - 1s 10ms/step - loss: 1.1507 - sparse_categorical_accuracy: 0.5553\n",
            "Epoch 8/72\n",
            "120/120 [==============================] - 1s 10ms/step - loss: 1.1507 - sparse_categorical_accuracy: 0.5553\n",
            "Epoch 9/72\n",
            "120/120 [==============================] - 1s 10ms/step - loss: 1.1507 - sparse_categorical_accuracy: 0.5553\n",
            "Epoch 10/72\n",
            "120/120 [==============================] - 1s 10ms/step - loss: 1.1507 - sparse_categorical_accuracy: 0.5553\n",
            "Epoch 11/72\n",
            "120/120 [==============================] - 1s 10ms/step - loss: 1.1507 - sparse_categorical_accuracy: 0.5553\n",
            "Epoch 12/72\n",
            "120/120 [==============================] - 1s 10ms/step - loss: 1.1507 - sparse_categorical_accuracy: 0.5553\n",
            "Epoch 13/72\n",
            "120/120 [==============================] - 1s 10ms/step - loss: 1.1507 - sparse_categorical_accuracy: 0.5553\n",
            "Epoch 14/72\n",
            "120/120 [==============================] - 1s 10ms/step - loss: 1.1507 - sparse_categorical_accuracy: 0.5553\n",
            "Epoch 15/72\n",
            "120/120 [==============================] - 1s 10ms/step - loss: 1.1507 - sparse_categorical_accuracy: 0.5553\n",
            "Epoch 16/72\n",
            "120/120 [==============================] - 1s 10ms/step - loss: 1.1507 - sparse_categorical_accuracy: 0.5553\n",
            "Epoch 17/72\n",
            "120/120 [==============================] - 1s 10ms/step - loss: 1.1507 - sparse_categorical_accuracy: 0.5553\n",
            "Epoch 18/72\n",
            "120/120 [==============================] - 1s 10ms/step - loss: 1.1507 - sparse_categorical_accuracy: 0.5553\n",
            "Epoch 19/72\n",
            "120/120 [==============================] - 1s 10ms/step - loss: 1.1507 - sparse_categorical_accuracy: 0.5553\n",
            "Epoch 20/72\n",
            "120/120 [==============================] - 1s 10ms/step - loss: 1.1507 - sparse_categorical_accuracy: 0.5553\n",
            "Epoch 21/72\n",
            "120/120 [==============================] - 1s 10ms/step - loss: 1.1507 - sparse_categorical_accuracy: 0.5553\n",
            "Epoch 22/72\n",
            "120/120 [==============================] - 1s 10ms/step - loss: 1.1507 - sparse_categorical_accuracy: 0.5553\n",
            "Epoch 23/72\n",
            "120/120 [==============================] - 1s 10ms/step - loss: 1.1507 - sparse_categorical_accuracy: 0.5553\n",
            "Epoch 24/72\n",
            "120/120 [==============================] - 1s 11ms/step - loss: 1.1507 - sparse_categorical_accuracy: 0.5553\n",
            "Epoch 25/72\n",
            "120/120 [==============================] - 1s 10ms/step - loss: 1.1507 - sparse_categorical_accuracy: 0.5553\n",
            "Epoch 26/72\n",
            "120/120 [==============================] - 1s 10ms/step - loss: 1.1507 - sparse_categorical_accuracy: 0.5553\n",
            "Epoch 27/72\n",
            "120/120 [==============================] - 1s 11ms/step - loss: 1.1507 - sparse_categorical_accuracy: 0.5553\n",
            "Epoch 28/72\n",
            "120/120 [==============================] - 1s 10ms/step - loss: 1.1507 - sparse_categorical_accuracy: 0.5553\n",
            "Epoch 29/72\n",
            "120/120 [==============================] - 1s 11ms/step - loss: 1.1507 - sparse_categorical_accuracy: 0.5553\n",
            "Epoch 30/72\n",
            "120/120 [==============================] - 1s 10ms/step - loss: 1.1588 - sparse_categorical_accuracy: 0.5530\n",
            "Epoch 31/72\n",
            "120/120 [==============================] - 1s 10ms/step - loss: 1.1542 - sparse_categorical_accuracy: 0.5541\n",
            "Epoch 32/72\n",
            "120/120 [==============================] - 1s 11ms/step - loss: 1.1512 - sparse_categorical_accuracy: 0.5552\n",
            "Epoch 33/72\n",
            "120/120 [==============================] - 1s 10ms/step - loss: 1.1508 - sparse_categorical_accuracy: 0.5553\n",
            "Epoch 34/72\n",
            "120/120 [==============================] - 1s 10ms/step - loss: 1.1508 - sparse_categorical_accuracy: 0.5553\n",
            "Epoch 35/72\n",
            "120/120 [==============================] - 1s 10ms/step - loss: 1.1507 - sparse_categorical_accuracy: 0.5553\n",
            "Epoch 36/72\n",
            "120/120 [==============================] - 1s 11ms/step - loss: 1.1507 - sparse_categorical_accuracy: 0.5553\n",
            "Epoch 37/72\n",
            "120/120 [==============================] - 1s 11ms/step - loss: 1.1507 - sparse_categorical_accuracy: 0.5553\n",
            "Epoch 38/72\n",
            "120/120 [==============================] - 1s 11ms/step - loss: 1.1507 - sparse_categorical_accuracy: 0.5553\n",
            "Epoch 39/72\n",
            "120/120 [==============================] - 1s 11ms/step - loss: 1.1507 - sparse_categorical_accuracy: 0.5553\n",
            "Epoch 40/72\n",
            "120/120 [==============================] - 1s 11ms/step - loss: 1.1507 - sparse_categorical_accuracy: 0.5553\n",
            "Epoch 41/72\n",
            "120/120 [==============================] - 1s 11ms/step - loss: 1.1507 - sparse_categorical_accuracy: 0.5553\n",
            "Epoch 42/72\n",
            "120/120 [==============================] - 1s 10ms/step - loss: 1.1507 - sparse_categorical_accuracy: 0.5553\n",
            "Epoch 43/72\n",
            "120/120 [==============================] - 1s 10ms/step - loss: 1.1508 - sparse_categorical_accuracy: 0.5553\n",
            "Epoch 44/72\n",
            "120/120 [==============================] - 1s 11ms/step - loss: 1.1507 - sparse_categorical_accuracy: 0.5553\n",
            "Epoch 45/72\n",
            "120/120 [==============================] - 1s 11ms/step - loss: 1.1507 - sparse_categorical_accuracy: 0.5553\n",
            "Epoch 46/72\n",
            "120/120 [==============================] - 1s 11ms/step - loss: 1.1507 - sparse_categorical_accuracy: 0.5553\n",
            "Epoch 47/72\n",
            "120/120 [==============================] - 1s 12ms/step - loss: 1.1507 - sparse_categorical_accuracy: 0.5553\n",
            "Epoch 48/72\n",
            "120/120 [==============================] - 1s 11ms/step - loss: 1.1507 - sparse_categorical_accuracy: 0.5553\n",
            "Epoch 49/72\n",
            "120/120 [==============================] - 2s 13ms/step - loss: 1.1507 - sparse_categorical_accuracy: 0.5553\n",
            "Epoch 50/72\n",
            "120/120 [==============================] - 1s 11ms/step - loss: 1.1507 - sparse_categorical_accuracy: 0.5553\n",
            "Epoch 51/72\n",
            "120/120 [==============================] - 2s 15ms/step - loss: 1.1507 - sparse_categorical_accuracy: 0.5553\n",
            "Epoch 52/72\n",
            "120/120 [==============================] - 2s 16ms/step - loss: 1.1507 - sparse_categorical_accuracy: 0.5553\n",
            "Epoch 53/72\n",
            "120/120 [==============================] - 2s 17ms/step - loss: 1.1507 - sparse_categorical_accuracy: 0.5553\n",
            "Epoch 54/72\n",
            "120/120 [==============================] - 2s 13ms/step - loss: 1.1507 - sparse_categorical_accuracy: 0.5553\n",
            "Epoch 55/72\n",
            "120/120 [==============================] - 1s 10ms/step - loss: 1.1507 - sparse_categorical_accuracy: 0.5553\n",
            "Epoch 56/72\n",
            "120/120 [==============================] - 1s 10ms/step - loss: 1.1507 - sparse_categorical_accuracy: 0.5553\n",
            "Epoch 57/72\n",
            "120/120 [==============================] - 1s 11ms/step - loss: 1.1508 - sparse_categorical_accuracy: 0.5553\n",
            "Epoch 58/72\n",
            "120/120 [==============================] - 1s 11ms/step - loss: 1.1507 - sparse_categorical_accuracy: 0.5553\n",
            "Epoch 59/72\n",
            "120/120 [==============================] - 1s 12ms/step - loss: 1.1507 - sparse_categorical_accuracy: 0.5553\n",
            "Epoch 60/72\n",
            "120/120 [==============================] - 1s 11ms/step - loss: 1.1507 - sparse_categorical_accuracy: 0.5553\n",
            "Epoch 61/72\n",
            "120/120 [==============================] - 1s 10ms/step - loss: 1.1507 - sparse_categorical_accuracy: 0.5553\n",
            "Epoch 62/72\n",
            "120/120 [==============================] - 1s 10ms/step - loss: 1.1507 - sparse_categorical_accuracy: 0.5553\n",
            "Epoch 63/72\n",
            "120/120 [==============================] - 1s 10ms/step - loss: 1.1507 - sparse_categorical_accuracy: 0.5553\n",
            "Epoch 64/72\n",
            "120/120 [==============================] - 1s 10ms/step - loss: 1.1507 - sparse_categorical_accuracy: 0.5553\n",
            "Epoch 65/72\n",
            "120/120 [==============================] - 1s 10ms/step - loss: 1.1507 - sparse_categorical_accuracy: 0.5553\n",
            "Epoch 66/72\n",
            "120/120 [==============================] - 1s 10ms/step - loss: 1.1507 - sparse_categorical_accuracy: 0.5553\n",
            "Epoch 67/72\n",
            "120/120 [==============================] - 1s 10ms/step - loss: 1.1507 - sparse_categorical_accuracy: 0.5553\n",
            "Epoch 68/72\n",
            "120/120 [==============================] - 1s 11ms/step - loss: 1.1507 - sparse_categorical_accuracy: 0.5553\n",
            "Epoch 69/72\n",
            "120/120 [==============================] - 1s 11ms/step - loss: 1.1507 - sparse_categorical_accuracy: 0.5553\n",
            "Epoch 70/72\n",
            "120/120 [==============================] - 1s 11ms/step - loss: 1.1507 - sparse_categorical_accuracy: 0.5553\n",
            "Epoch 71/72\n",
            " 82/120 [===================>..........] - ETA: 0s - loss: 1.1501 - sparse_categorical_accuracy: 0.5557"
          ],
          "name": "stdout"
        }
      ]
    },
    {
      "cell_type": "code",
      "metadata": {
        "id": "_bM73tCb4m9E",
        "outputId": "8e1a3ab8-1b99-432f-f8c3-01d58efc50f1",
        "colab": {
          "base_uri": "https://localhost:8080/",
          "height": 34
        }
      },
      "source": [
        "scores"
      ],
      "execution_count": null,
      "outputs": [
        {
          "output_type": "execute_result",
          "data": {
            "text/plain": [
              "[0.08574838936328888, 0.9793000221252441]"
            ]
          },
          "metadata": {
            "tags": []
          },
          "execution_count": 37
        }
      ]
    },
    {
      "cell_type": "code",
      "metadata": {
        "id": "-_pYX_INlXap",
        "outputId": "f1f0991a-bfa1-41da-bd45-5beed0e5c329",
        "colab": {
          "base_uri": "https://localhost:8080/",
          "height": 265
        }
      },
      "source": [
        "\n",
        "#plot of the error observed\n",
        "df = pd.DataFrame({'error':error_value},index = batchsize)\n",
        "line = df.plot.line()"
      ],
      "execution_count": null,
      "outputs": [
        {
          "output_type": "display_data",
          "data": {
            "image/png": "[encoded data removed]",
            "text/plain": [
              "<Figure size 432x288 with 1 Axes>"
            ]
          },
          "metadata": {
            "tags": [],
            "needs_background": "light"
          }
        }
      ]
    }
  ]
}