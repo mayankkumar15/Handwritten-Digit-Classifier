{
  "nbformat": 4,
  "nbformat_minor": 0,
  "metadata": {
    "kernelspec": {
      "display_name": "Python 3",
      "language": "python",
      "name": "python3"
    },
    "language_info": {
      "codemirror_mode": {
        "name": "ipython",
        "version": 3
      },
      "file_extension": ".py",
      "mimetype": "text/x-python",
      "name": "python",
      "nbconvert_exporter": "python",
      "pygments_lexer": "ipython3",
      "version": "3.7.9"
    },
    "colab": {
      "name": "HandwrittenDigitClassifier (1).ipynb",
      "provenance": [],
      "collapsed_sections": [],
      "include_colab_link": true
    }
  },
  "cells": [
    {
      "cell_type": "markdown",
      "metadata": {
        "id": "view-in-github",
        "colab_type": "text"
      },
      "source": [
        "<a href=\"https://colab.research.google.com/github/mayankkumar15/Handwritten-Digit-Classifier/blob/main/HandwrittenDigitClassifier.ipynb\" target=\"_parent\"><img src=\"https://colab.research.google.com/assets/colab-badge.svg\" alt=\"Open In Colab\"/></a>"
      ]
    },
    {
      "cell_type": "code",
      "metadata": {
        "id": "x59XmTmDlXaU"
      },
      "source": [
        "import tensorflow as tf\n",
        "from tensorflow import keras\n",
        "import numpy as np\n",
        "import matplotlib.pyplot as plt\n",
        "%matplotlib inline\n",
        "import pandas as pd"
      ],
      "execution_count": null,
      "outputs": []
    },
    {
      "cell_type": "code",
      "metadata": {
        "id": "8wbHPjsVqkEN"
      },
      "source": [
        "(X_train, y_train), (X_test, y_test) = tf.keras.datasets.mnist.load_data()\n",
        "\n",
        "# Rescaling the images through the range [0,255] to [0.0,1.0] \n",
        "X_train, X_test = X_train[..., np.newaxis]/255, X_test[..., np.newaxis]/255\n"
      ],
      "execution_count": null,
      "outputs": []
    },
    {
      "cell_type": "code",
      "metadata": {
        "id": "NHBB7ynDlXae"
      },
      "source": [
        "# first half of trained data is original images and the second half is flipped images\n",
        "X_train = [i for i in X_train[0:30000:1]] + [1-i for i in X_train[:-30001:-1]]\n",
        "X_train = np.asarray(X_train)"
      ],
      "execution_count": null,
      "outputs": []
    },
    {
      "cell_type": "code",
      "metadata": {
        "id": "30qJBnMywu6p"
      },
      "source": [
        "plt.imshow(tf.squeeze(X_train[6]))"
      ],
      "execution_count": null,
      "outputs": []
    },
    {
      "cell_type": "code",
      "metadata": {
        "id": "mInFYkrRxUH4"
      },
      "source": [
        "plt.imshow(tf.squeeze(X_train[30008]))"
      ],
      "execution_count": null,
      "outputs": []
    },
    {
      "cell_type": "code",
      "metadata": {
        "id": "K8emAB2NlXaj"
      },
      "source": [
        "# Flattening the test data image in order to create a single vector\n",
        "X_test_converted = X_test.reshape(len(X_test), 28*28)"
      ],
      "execution_count": null,
      "outputs": []
    },
    {
      "cell_type": "code",
      "metadata": {
        "id": "2tlxSJ1YlXam"
      },
      "source": [
        "# Model\n",
        "model = keras.Sequential()\n",
        "\n",
        "\n",
        "layer_1 = keras.layers.Flatten(input_shape=(28, 28))\n",
        "layer_2 = keras.layers.Dense(200,activation='relu')\n",
        "layer_3 = keras.layers.Dense(10, activation='softmax')\n",
        "\n",
        "model.add(layer_1)\n",
        "model.add(layer_2)\n",
        "model.add(layer_3)\n",
        "model.compile(optimizer='adam',loss='sparse_categorical_crossentropy',metrics=[\"sparse_categorical_accuracy\"])\n",
        "\n",
        "batchsize = [200, 500]\n",
        "error_value = []\n",
        "for i in batchsize:\n",
        "    print(\"batch size \" + str(i))\n",
        "    model.fit(X_train, y_train, epochs=72,batch_size=int(i))\n",
        "    scores = model.evaluate(X_test_converted, y_test, batch_size=int(i))\n",
        "    print(\"The found Error is  %.2f%%\" % (100-scores[1]*100))\n",
        "    print(\"--------- next batch ---------\")\n",
        "    error_value.append(100-scores[1]*100)\n",
        "print(error_value)"
      ],
      "execution_count": null,
      "outputs": []
    },
    {
      "cell_type": "code",
      "metadata": {
        "id": "-_pYX_INlXap",
        "outputId": "f1f0991a-bfa1-41da-bd45-5beed0e5c329",
        "colab": {
          "base_uri": "https://localhost:8080/",
          "height": 265
        }
      },
      "source": [
        "#plot of the error observed\n",
        "df = pd.DataFrame({'error':error_value},index = batchsize)\n",
        "line = df.plot.line()"
      ],
      "execution_count": null,
      "outputs": [
        {
          "output_type": "display_data",
          "data": {
            "image/png": "[encoded data removed]",
            "text/plain": [
              "<Figure size 432x288 with 1 Axes>"
            ]
          },
          "metadata": {
            "tags": [],
            "needs_background": "light"
          }
        }
      ]
    }
  ]
}